{
  "cells": [
    {
      "cell_type": "markdown",
      "metadata": {
        "id": "view-in-github",
        "colab_type": "text"
      },
      "source": [
        "<a href=\"https://colab.research.google.com/github/Devikavenu/devika/blob/main/numpy_pandas_casestudy_questionsc_(1).ipynb\" target=\"_parent\"><img src=\"https://colab.research.google.com/assets/colab-badge.svg\" alt=\"Open In Colab\"/></a>"
      ]
    },
    {
      "cell_type": "markdown",
      "metadata": {
        "id": "Kf5HE34edT6v"
      },
      "source": [
        "# 📚 **NumPy, Pandas, Matplotlib, and Seaborn Practice Questions**\n",
        "---\n",
        "This notebook contains four sets of practice questions covering NumPy, Pandas, Matplotlib, and Seaborn. Complete the tasks below and run the respective cells."
      ],
      "id": "Kf5HE34edT6v"
    },
    {
      "cell_type": "code",
      "source": [
        "from google.colab import drive\n",
        "drive.mount('/content/drive')"
      ],
      "metadata": {
        "id": "v-ak-OVBXzAk"
      },
      "id": "v-ak-OVBXzAk",
      "execution_count": null,
      "outputs": []
    },
    {
      "cell_type": "markdown",
      "source": [
        "# New Section"
      ],
      "metadata": {
        "id": "v4c2ZhUiXEwr"
      },
      "id": "v4c2ZhUiXEwr"
    },
    {
      "cell_type": "markdown",
      "metadata": {
        "id": "vxUy2SMydT6x"
      },
      "source": [
        "## 🧠 **Question 1: NumPy Array Manipulation**\n",
        "1. Create a 1D NumPy array with integers from **1 to 24**.  \n",
        "2. Reshape the array into a **4x6 matrix**.  \n",
        "3. Extract the **third row** and **second column** from the reshaped array.  \n",
        "4. Transpose the matrix and display the result."
      ],
      "id": "vxUy2SMydT6x"
    },
    {
      "cell_type": "code",
      "source": [],
      "metadata": {
        "id": "Pj7mxL7-eTzM"
      },
      "id": "Pj7mxL7-eTzM",
      "execution_count": null,
      "outputs": []
    },
    {
      "cell_type": "code",
      "metadata": {
        "colab": {
          "base_uri": "https://localhost:8080/"
        },
        "id": "M6H4Ih80dT6y",
        "outputId": "46c01bee-036c-4a7a-e16a-c01a62494dcb"
      },
      "source": [
        "# Solution for Question 1\n",
        "import numpy as np\n",
        "\n",
        "# Your code here\n",
        "data = np.arange(1, 25)\n",
        "print(data)\n"
      ],
      "outputs": [
        {
          "output_type": "stream",
          "name": "stdout",
          "text": [
            "[ 1  2  3  4  5  6  7  8  9 10 11 12 13 14 15 16 17 18 19 20 21 22 23 24]\n"
          ]
        }
      ],
      "id": "M6H4Ih80dT6y",
      "execution_count": null
    },
    {
      "cell_type": "code",
      "source": [
        "matrix=data.reshape(4,6)\n",
        "print(matrix)"
      ],
      "metadata": {
        "colab": {
          "base_uri": "https://localhost:8080/"
        },
        "id": "LqU7-SAdeaCu",
        "outputId": "7daa7d4f-71ed-463a-b165-e71e80a7e1f9"
      },
      "id": "LqU7-SAdeaCu",
      "execution_count": null,
      "outputs": [
        {
          "output_type": "stream",
          "name": "stdout",
          "text": [
            "[[ 1  2  3  4  5  6]\n",
            " [ 7  8  9 10 11 12]\n",
            " [13 14 15 16 17 18]\n",
            " [19 20 21 22 23 24]]\n"
          ]
        }
      ]
    },
    {
      "cell_type": "code",
      "source": [
        "third_row=matrix[2,:]\n",
        "print(third_row)"
      ],
      "metadata": {
        "colab": {
          "base_uri": "https://localhost:8080/"
        },
        "id": "xI7Y-8XmekIq",
        "outputId": "5a2e8fc2-1830-4a98-ec12-3308391e879f"
      },
      "id": "xI7Y-8XmekIq",
      "execution_count": null,
      "outputs": [
        {
          "output_type": "stream",
          "name": "stdout",
          "text": [
            "[13 14 15 16 17 18]\n"
          ]
        }
      ]
    },
    {
      "cell_type": "code",
      "source": [
        "second_column=matrix[:,1]\n",
        "print(second_column)"
      ],
      "metadata": {
        "colab": {
          "base_uri": "https://localhost:8080/"
        },
        "id": "iLQI7f7VewyN",
        "outputId": "c449ff42-cd88-4522-f162-ce411c59c0df"
      },
      "id": "iLQI7f7VewyN",
      "execution_count": null,
      "outputs": [
        {
          "output_type": "stream",
          "name": "stdout",
          "text": [
            "[ 2  8 14 20]\n"
          ]
        }
      ]
    },
    {
      "cell_type": "code",
      "source": [
        "print(\"third_row and second_column\")\n",
        "print(third_row)\n",
        "print(second_column)"
      ],
      "metadata": {
        "colab": {
          "base_uri": "https://localhost:8080/"
        },
        "id": "JV56Cu4Ke4SL",
        "outputId": "c71ba9f5-d04a-4c84-92da-8227c5eef0d5"
      },
      "id": "JV56Cu4Ke4SL",
      "execution_count": null,
      "outputs": [
        {
          "output_type": "stream",
          "name": "stdout",
          "text": [
            "third_row and second_column\n",
            "[13 14 15 16 17 18]\n",
            "[ 2  8 14 20]\n"
          ]
        }
      ]
    },
    {
      "cell_type": "code",
      "source": [
        "transpose_matrix=matrix.T\n",
        "print(transpose_matrix)\n",
        "print(\"\\n transpose matrix\")\n",
        "print(transpose_matrix)"
      ],
      "metadata": {
        "colab": {
          "base_uri": "https://localhost:8080/"
        },
        "id": "i0fqlv84fBKq",
        "outputId": "8f21cc74-665c-4bc9-90d6-528d47ab95fc"
      },
      "id": "i0fqlv84fBKq",
      "execution_count": null,
      "outputs": [
        {
          "output_type": "stream",
          "name": "stdout",
          "text": [
            "[[ 1  7 13 19]\n",
            " [ 2  8 14 20]\n",
            " [ 3  9 15 21]\n",
            " [ 4 10 16 22]\n",
            " [ 5 11 17 23]\n",
            " [ 6 12 18 24]]\n",
            "\n",
            " transpose matrix\n",
            "[[ 1  7 13 19]\n",
            " [ 2  8 14 20]\n",
            " [ 3  9 15 21]\n",
            " [ 4 10 16 22]\n",
            " [ 5 11 17 23]\n",
            " [ 6 12 18 24]]\n"
          ]
        }
      ]
    },
    {
      "cell_type": "markdown",
      "metadata": {
        "id": "urQpkHNxdT6z"
      },
      "source": [
        "## 🧠 **Question 2: Array Element Extraction**\n",
        "1. Create a **5x5 NumPy array** with random integers between **10 and 100**.  \n",
        "2. Extract all the **even numbers** from the array.  \n",
        "3. Replace all numbers **greater than 50** with **0**.  \n",
        "4. Extract the diagonal elements of the array."
      ],
      "id": "urQpkHNxdT6z"
    },
    {
      "cell_type": "code",
      "metadata": {
        "colab": {
          "base_uri": "https://localhost:8080/"
        },
        "id": "x6rZkY8ldT60",
        "outputId": "398e5e7f-85cc-4d2e-e42e-a2514bd3a495"
      },
      "source": [
        "# Solution for Question 2\n",
        "import numpy as np\n",
        "\n",
        "# Your code here\n",
        "array=np.random.randint(10,100,size=(5,5))\n",
        "print(array)"
      ],
      "outputs": [
        {
          "output_type": "stream",
          "name": "stdout",
          "text": [
            "[[14 51 95 61 29]\n",
            " [55 88 54 60 44]\n",
            " [18 20 88 50 21]\n",
            " [75 50 89 95 56]\n",
            " [33 77 50 51 18]]\n"
          ]
        }
      ],
      "id": "x6rZkY8ldT60",
      "execution_count": null
    },
    {
      "cell_type": "code",
      "source": [
        "evennumbers=array[array%2==0]\n",
        "print(evennumbers)"
      ],
      "metadata": {
        "colab": {
          "base_uri": "https://localhost:8080/"
        },
        "id": "XYmsYqESf3IV",
        "outputId": "258ae417-f934-446b-9612-1d6cc6e1c00a"
      },
      "id": "XYmsYqESf3IV",
      "execution_count": null,
      "outputs": [
        {
          "output_type": "stream",
          "name": "stdout",
          "text": [
            "[14 88 54 60 44 18 20 88 50 50 56 50 18]\n"
          ]
        }
      ]
    },
    {
      "cell_type": "code",
      "source": [
        "array[array>50]=0\n",
        "print(\"modifid \\n\")\n",
        "print(array)"
      ],
      "metadata": {
        "colab": {
          "base_uri": "https://localhost:8080/"
        },
        "id": "z8vNxrgTgCUO",
        "outputId": "047b3df4-8a20-46d9-b8bb-790f498a65a7"
      },
      "id": "z8vNxrgTgCUO",
      "execution_count": null,
      "outputs": [
        {
          "output_type": "stream",
          "name": "stdout",
          "text": [
            "modifid \n",
            "\n",
            "[[14  0  0  0 29]\n",
            " [ 0  0  0  0 44]\n",
            " [18 20  0 50 21]\n",
            " [ 0 50  0  0  0]\n",
            " [33  0 50  0 18]]\n"
          ]
        }
      ]
    },
    {
      "cell_type": "code",
      "source": [
        "diagonal_elements=np.diag(array)\n",
        "print(diagonal_elements)"
      ],
      "metadata": {
        "colab": {
          "base_uri": "https://localhost:8080/"
        },
        "id": "-iTLxqaQgUev",
        "outputId": "73b133c9-f599-47b9-adb1-b29c795ee084"
      },
      "id": "-iTLxqaQgUev",
      "execution_count": null,
      "outputs": [
        {
          "output_type": "stream",
          "name": "stdout",
          "text": [
            "[14  0  0  0 18]\n"
          ]
        }
      ]
    },
    {
      "cell_type": "markdown",
      "metadata": {
        "id": "1RjN-5wYdT60"
      },
      "source": [
        "## 🧠 **Question 3: DataFrame Creation and Operations (Pandas)**\n",
        "1. Create a Pandas DataFrame containing the following data:\n",
        "\n",
        "| Student_ID | Name   | Subject | Marks |\n",
        "|------------|--------|---------|-------|\n",
        "| 1          | Alice  | Math    | 88    |\n",
        "| 2          | Bob    | Science | 75    |\n",
        "| 3          | Carol  | History | 92    |\n",
        "| 4          | David  | Math    | 85    |\n",
        "| 5          | Eva    | Science | 90    |\n",
        "\n",
        "2. Find the **average marks** for each subject.  \n",
        "3. Add a new column named **Grade** based on the marks:\n",
        "- Marks ≥ 90 → A\n",
        "- Marks ≥ 80 → B\n",
        "- Marks ≥ 70 → C\n",
        "- Else → D"
      ],
      "id": "1RjN-5wYdT60"
    },
    {
      "cell_type": "code",
      "metadata": {
        "colab": {
          "base_uri": "https://localhost:8080/"
        },
        "id": "mFnEMrkgdT61",
        "outputId": "37a4300d-f02b-4d78-d352-0793afd725c3"
      },
      "source": [
        "# Solution for Question 3\n",
        "import pandas as pd\n",
        "\n",
        "# Your code here\n",
        "data ={\"student_id\":[1,2,3,4,5],\"name\":[\"alice\",\"bob\",\"carol\",\"david\",\"eva\"],\"subject\":[\"math\",\"science\",\"history\",\"math\",\"science\"],\"marks\":[88,75,92,85,90]}\n",
        "df=pd.DataFrame(data)\n",
        "print(\"data:\\n\",df)"
      ],
      "outputs": [
        {
          "output_type": "stream",
          "name": "stdout",
          "text": [
            "data:\n",
            "    student_id   name  subject  marks\n",
            "0           1  alice     math     88\n",
            "1           2    bob  science     75\n",
            "2           3  carol  history     92\n",
            "3           4  david     math     85\n",
            "4           5    eva  science     90\n"
          ]
        }
      ],
      "id": "mFnEMrkgdT61",
      "execution_count": null
    },
    {
      "cell_type": "code",
      "source": [
        "average_marks=df.groupby(\"subject\")[\"marks\"].mean()\n",
        "print(average_marks)\n"
      ],
      "metadata": {
        "colab": {
          "base_uri": "https://localhost:8080/"
        },
        "id": "vnY9hgLcg46y",
        "outputId": "eac72de0-d0fc-4003-d5b3-16ed3c9ba6fe"
      },
      "id": "vnY9hgLcg46y",
      "execution_count": null,
      "outputs": [
        {
          "output_type": "stream",
          "name": "stdout",
          "text": [
            "subject\n",
            "history    92.0\n",
            "math       86.5\n",
            "science    82.5\n",
            "Name: marks, dtype: float64\n"
          ]
        }
      ]
    },
    {
      "cell_type": "code",
      "source": [
        "def assign_grade(marks):\n",
        "    if marks>=90:\n",
        "        return \"A\"\n",
        "    elif marks>=80:\n",
        "        return \"B\"\n",
        "    elif marks>=70:\n",
        "        return \"C\"\n",
        "    else:\n",
        "        return \"D\"\n",
        "\n",
        "df[\"grade\"]=df[\"marks\"].apply(assign_grade)\n",
        "print(df)"
      ],
      "metadata": {
        "colab": {
          "base_uri": "https://localhost:8080/"
        },
        "id": "6LuVIVXfhHej",
        "outputId": "91d3f4da-ec78-488a-990d-3b97d76ccdb6"
      },
      "id": "6LuVIVXfhHej",
      "execution_count": null,
      "outputs": [
        {
          "output_type": "stream",
          "name": "stdout",
          "text": [
            "   student_id   name  subject  marks grade\n",
            "0           1  alice     math     88     B\n",
            "1           2    bob  science     75     C\n",
            "2           3  carol  history     92     A\n",
            "3           4  david     math     85     B\n",
            "4           5    eva  science     90     A\n"
          ]
        }
      ]
    },
    {
      "cell_type": "markdown",
      "metadata": {
        "id": "WbiVP4UWdT61"
      },
      "source": [
        "## 🧠 **Question 4: Dataset Analysis (Pandas, Matplotlib, Seaborn)**\n",
        "Use the dataset `diabetes.csv` and perform the following tasks:\n",
        "\n",
        "1. Display the **BMI** and **Blood Pressure** for samples with **index ranging from 20 to 40**.  \n",
        "2. Find how many patients have **BMI > 30**.  \n",
        "3. Find the **mean and standard deviation** of the **Glucose** levels.  \n",
        "4. Plot a **boxplot** for the column **Insulin**.  \n",
        "5. Create a **heatmap** showing the correlation between the numerical columns in the dataset."
      ],
      "id": "WbiVP4UWdT61"
    },
    {
      "cell_type": "code",
      "metadata": {
        "id": "zBnSZlatdT62"
      },
      "source": [
        "# Solution for Question 4\n",
        "import pandas as pd\n",
        "import matplotlib.pyplot as plt\n",
        "import seaborn as sns\n",
        "\n",
        "# Your code here\n",
        "data = pd.read_csv(\"diabetes_model.csv\")"
      ],
      "outputs": [],
      "id": "zBnSZlatdT62",
      "execution_count": null
    },
    {
      "cell_type": "code",
      "source": [
        "print(data)"
      ],
      "metadata": {
        "colab": {
          "base_uri": "https://localhost:8080/"
        },
        "id": "8GVc32_djKsO",
        "outputId": "30f4e0d1-e333-46a3-cd29-6ef00ab7d75f"
      },
      "id": "8GVc32_djKsO",
      "execution_count": null,
      "outputs": [
        {
          "output_type": "stream",
          "name": "stdout",
          "text": [
            "     Pregnancies  Glucose  BloodPressure  SkinThickness  Insulin   BMI  \\\n",
            "0              5       77             82             41       42  35.8   \n",
            "1              9      122             56              0        0  33.3   \n",
            "2              0      113             76              0        0  33.3   \n",
            "3              1      139             62             41      480  40.7   \n",
            "4             10      161             68             23      132  25.5   \n",
            "..           ...      ...            ...            ...      ...   ...   \n",
            "609            4      114             64              0        0  28.9   \n",
            "610            2      175             88              0        0  22.9   \n",
            "611            3      121             52              0        0  36.0   \n",
            "612            7      136             74             26      135  26.0   \n",
            "613            4      156             75              0        0  48.3   \n",
            "\n",
            "     DiabetesPedigreeFunction  Age  Outcome  \n",
            "0                       0.156   35        0  \n",
            "1                       1.114   33        1  \n",
            "2                       0.278   23        1  \n",
            "3                       0.536   21        0  \n",
            "4                       0.326   47        1  \n",
            "..                        ...  ...      ...  \n",
            "609                     0.126   24        0  \n",
            "610                     0.326   22        0  \n",
            "611                     0.127   25        1  \n",
            "612                     0.647   51        0  \n",
            "613                     0.238   32        1  \n",
            "\n",
            "[614 rows x 9 columns]\n"
          ]
        }
      ]
    },
    {
      "cell_type": "code",
      "source": [
        "print(\"BMI and Blood pressure for samples with index ranging from 20 to 40\")\n",
        "print(data.loc[20:40,[\"BMI\",\"BloodPressure\"]])"
      ],
      "metadata": {
        "colab": {
          "base_uri": "https://localhost:8080/"
        },
        "id": "YH-WI3tPjM_V",
        "outputId": "228bb2a7-c210-4b58-b4d9-af0cf85b6ded"
      },
      "id": "YH-WI3tPjM_V",
      "execution_count": null,
      "outputs": [
        {
          "output_type": "stream",
          "name": "stdout",
          "text": [
            "BMI and Blood pressure for samples with index ranging from 20 to 40\n",
            "     BMI  BloodPressure\n",
            "20  34.2             70\n",
            "21  35.0             82\n",
            "22  30.5             74\n",
            "23  31.6             70\n",
            "24  22.1             62\n",
            "25  27.1             88\n",
            "26  43.5             60\n",
            "27  36.0             75\n",
            "28  34.2             70\n",
            "29  36.5             90\n",
            "30  30.4             86\n",
            "31  43.3             78\n",
            "32  37.7             68\n",
            "33  23.0             78\n",
            "34  46.1             78\n",
            "35  32.8             78\n",
            "36  43.3             30\n",
            "37  26.5             68\n",
            "38  28.0              0\n",
            "39  46.8             84\n",
            "40  24.4             55\n"
          ]
        }
      ]
    },
    {
      "cell_type": "code",
      "source": [
        "bmi_greater_than_30=data[data[\"BMI\"]>30].shape[0]\n",
        "print(\"\\n bmi_greater_than_30:\",bmi_greater_than_30)"
      ],
      "metadata": {
        "colab": {
          "base_uri": "https://localhost:8080/"
        },
        "id": "kP3MjMWekkGq",
        "outputId": "5dcc3bf3-66fb-4757-f372-afb3b3706b81"
      },
      "id": "kP3MjMWekkGq",
      "execution_count": null,
      "outputs": [
        {
          "output_type": "stream",
          "name": "stdout",
          "text": [
            "\n",
            " bmi_greater_than_30: 372\n"
          ]
        }
      ]
    },
    {
      "cell_type": "code",
      "source": [
        "glucose_mean=data[\"Glucose\"].mean()\n",
        "glucose_std=data[\"Glucose\"].std()\n",
        "print(\"\\n glucose_mean:\",glucose_mean)\n",
        "print(\"\\n glucose_std:\",glucose_std)"
      ],
      "metadata": {
        "colab": {
          "base_uri": "https://localhost:8080/"
        },
        "id": "ktQDtcF1ma9e",
        "outputId": "f97022f2-2be1-425d-8c2c-f86eb7b5fc59"
      },
      "id": "ktQDtcF1ma9e",
      "execution_count": null,
      "outputs": [
        {
          "output_type": "stream",
          "name": "stdout",
          "text": [
            "\n",
            " glucose_mean: 121.5\n",
            "\n",
            " glucose_std: 32.27591842655023\n"
          ]
        }
      ]
    },
    {
      "cell_type": "code",
      "source": [
        "plt.figure(figsize=(6,4))\n",
        "sns.boxplot(y=data[\"Insulin\"])\n",
        "plt.title(\"boxplot for insulin\")\n",
        "plt.show()"
      ],
      "metadata": {
        "colab": {
          "base_uri": "https://localhost:8080/",
          "height": 372
        },
        "id": "QBKzEgJwm_z5",
        "outputId": "d07d54c9-56db-4d37-d93a-0789c3941c9b"
      },
      "id": "QBKzEgJwm_z5",
      "execution_count": null,
      "outputs": [
        {
          "output_type": "display_data",
          "data": {
            "text/plain": [
              "<Figure size 600x400 with 1 Axes>"
            ],
            "image/png": "[encoded data removed]"
          },
          "metadata": {}
        }
      ]
    },
    {
      "cell_type": "code",
      "source": [
        "plt.figure(figsize=(10,6))\n",
        "sns.heatmap(data.corr(),annot=True,cmap=\"coolwarm\",fmt=\".2f\")\n",
        "plt.title(\"heatmap\")\n",
        "plt.show()"
      ],
      "metadata": {
        "colab": {
          "base_uri": "https://localhost:8080/",
          "height": 712
        },
        "id": "VKww0ZAxn6NH",
        "outputId": "72e8b7cf-4d06-417c-c127-aa6494c00bc0"
      },
      "id": "VKww0ZAxn6NH",
      "execution_count": null,
      "outputs": [
        {
          "output_type": "display_data",
          "data": {
            "text/plain": [
              "<Figure size 1000x600 with 2 Axes>"
            ],
            "image/png": "[encoded data removed]"
          },
          "metadata": {}
        }
      ]
    },
    {
      "cell_type": "code",
      "source": [],
      "metadata": {
        "id": "volkNyoao-Ev"
      },
      "id": "volkNyoao-Ev",
      "execution_count": null,
      "outputs": []
    }
  ],
  "metadata": {
    "kernelspec": {
      "display_name": "Python 3",
      "language": "python",
      "name": "python3"
    },
    "language_info": {
      "name": "python",
      "version": "3.x"
    },
    "colab": {
      "provenance": [],
      "include_colab_link": true
    }
  },
  "nbformat": 4,
  "nbformat_minor": 5
}